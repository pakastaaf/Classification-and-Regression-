{
 "cells": [
  {
   "cell_type": "code",
   "execution_count": 1,
   "metadata": {},
   "outputs": [
    {
     "data": {
      "text/html": [
       "<div>\n",
       "<style scoped>\n",
       "    .dataframe tbody tr th:only-of-type {\n",
       "        vertical-align: middle;\n",
       "    }\n",
       "\n",
       "    .dataframe tbody tr th {\n",
       "        vertical-align: top;\n",
       "    }\n",
       "\n",
       "    .dataframe thead th {\n",
       "        text-align: right;\n",
       "    }\n",
       "</style>\n",
       "<table border=\"1\" class=\"dataframe\">\n",
       "  <thead>\n",
       "    <tr style=\"text-align: right;\">\n",
       "      <th></th>\n",
       "      <th>battery_power</th>\n",
       "      <th>blue</th>\n",
       "      <th>clock_speed</th>\n",
       "      <th>dual_sim</th>\n",
       "      <th>fc</th>\n",
       "      <th>four_g</th>\n",
       "      <th>int_memory</th>\n",
       "      <th>m_dep</th>\n",
       "      <th>mobile_wt</th>\n",
       "      <th>n_cores</th>\n",
       "      <th>...</th>\n",
       "      <th>px_height</th>\n",
       "      <th>px_width</th>\n",
       "      <th>ram</th>\n",
       "      <th>sc_h</th>\n",
       "      <th>sc_w</th>\n",
       "      <th>talk_time</th>\n",
       "      <th>three_g</th>\n",
       "      <th>touch_screen</th>\n",
       "      <th>wifi</th>\n",
       "      <th>price_range</th>\n",
       "    </tr>\n",
       "  </thead>\n",
       "  <tbody>\n",
       "    <tr>\n",
       "      <th>0</th>\n",
       "      <td>1701</td>\n",
       "      <td>1</td>\n",
       "      <td>1.6</td>\n",
       "      <td>1</td>\n",
       "      <td>3</td>\n",
       "      <td>0</td>\n",
       "      <td>10</td>\n",
       "      <td>0.3</td>\n",
       "      <td>194</td>\n",
       "      <td>8</td>\n",
       "      <td>...</td>\n",
       "      <td>550</td>\n",
       "      <td>1338</td>\n",
       "      <td>2598</td>\n",
       "      <td>12</td>\n",
       "      <td>9</td>\n",
       "      <td>6</td>\n",
       "      <td>0</td>\n",
       "      <td>1</td>\n",
       "      <td>0</td>\n",
       "      <td>2</td>\n",
       "    </tr>\n",
       "    <tr>\n",
       "      <th>1</th>\n",
       "      <td>1484</td>\n",
       "      <td>0</td>\n",
       "      <td>3.0</td>\n",
       "      <td>0</td>\n",
       "      <td>3</td>\n",
       "      <td>0</td>\n",
       "      <td>12</td>\n",
       "      <td>0.6</td>\n",
       "      <td>134</td>\n",
       "      <td>3</td>\n",
       "      <td>...</td>\n",
       "      <td>916</td>\n",
       "      <td>969</td>\n",
       "      <td>1457</td>\n",
       "      <td>14</td>\n",
       "      <td>4</td>\n",
       "      <td>20</td>\n",
       "      <td>1</td>\n",
       "      <td>1</td>\n",
       "      <td>0</td>\n",
       "      <td>1</td>\n",
       "    </tr>\n",
       "    <tr>\n",
       "      <th>2</th>\n",
       "      <td>555</td>\n",
       "      <td>1</td>\n",
       "      <td>0.5</td>\n",
       "      <td>1</td>\n",
       "      <td>2</td>\n",
       "      <td>0</td>\n",
       "      <td>17</td>\n",
       "      <td>0.2</td>\n",
       "      <td>163</td>\n",
       "      <td>5</td>\n",
       "      <td>...</td>\n",
       "      <td>956</td>\n",
       "      <td>1010</td>\n",
       "      <td>343</td>\n",
       "      <td>19</td>\n",
       "      <td>14</td>\n",
       "      <td>3</td>\n",
       "      <td>0</td>\n",
       "      <td>1</td>\n",
       "      <td>1</td>\n",
       "      <td>0</td>\n",
       "    </tr>\n",
       "    <tr>\n",
       "      <th>3</th>\n",
       "      <td>586</td>\n",
       "      <td>0</td>\n",
       "      <td>2.8</td>\n",
       "      <td>0</td>\n",
       "      <td>2</td>\n",
       "      <td>0</td>\n",
       "      <td>15</td>\n",
       "      <td>0.2</td>\n",
       "      <td>83</td>\n",
       "      <td>3</td>\n",
       "      <td>...</td>\n",
       "      <td>241</td>\n",
       "      <td>854</td>\n",
       "      <td>2592</td>\n",
       "      <td>12</td>\n",
       "      <td>8</td>\n",
       "      <td>3</td>\n",
       "      <td>0</td>\n",
       "      <td>0</td>\n",
       "      <td>0</td>\n",
       "      <td>1</td>\n",
       "    </tr>\n",
       "    <tr>\n",
       "      <th>4</th>\n",
       "      <td>980</td>\n",
       "      <td>1</td>\n",
       "      <td>0.5</td>\n",
       "      <td>0</td>\n",
       "      <td>0</td>\n",
       "      <td>1</td>\n",
       "      <td>33</td>\n",
       "      <td>0.9</td>\n",
       "      <td>160</td>\n",
       "      <td>6</td>\n",
       "      <td>...</td>\n",
       "      <td>1008</td>\n",
       "      <td>1758</td>\n",
       "      <td>2268</td>\n",
       "      <td>7</td>\n",
       "      <td>5</td>\n",
       "      <td>4</td>\n",
       "      <td>1</td>\n",
       "      <td>1</td>\n",
       "      <td>0</td>\n",
       "      <td>2</td>\n",
       "    </tr>\n",
       "  </tbody>\n",
       "</table>\n",
       "<p>5 rows × 21 columns</p>\n",
       "</div>"
      ],
      "text/plain": [
       "   battery_power  blue  clock_speed  dual_sim  fc  four_g  int_memory  m_dep  \\\n",
       "0           1701     1          1.6         1   3       0          10    0.3   \n",
       "1           1484     0          3.0         0   3       0          12    0.6   \n",
       "2            555     1          0.5         1   2       0          17    0.2   \n",
       "3            586     0          2.8         0   2       0          15    0.2   \n",
       "4            980     1          0.5         0   0       1          33    0.9   \n",
       "\n",
       "   mobile_wt  n_cores  ...  px_height  px_width   ram  sc_h  sc_w  talk_time  \\\n",
       "0        194        8  ...        550      1338  2598    12     9          6   \n",
       "1        134        3  ...        916       969  1457    14     4         20   \n",
       "2        163        5  ...        956      1010   343    19    14          3   \n",
       "3         83        3  ...        241       854  2592    12     8          3   \n",
       "4        160        6  ...       1008      1758  2268     7     5          4   \n",
       "\n",
       "   three_g  touch_screen  wifi  price_range  \n",
       "0        0             1     0            2  \n",
       "1        1             1     0            1  \n",
       "2        0             1     1            0  \n",
       "3        0             0     0            1  \n",
       "4        1             1     0            2  \n",
       "\n",
       "[5 rows x 21 columns]"
      ]
     },
     "execution_count": 1,
     "metadata": {},
     "output_type": "execute_result"
    }
   ],
   "source": [
    "import pandas as pd\n",
    "val = pd.read_csv(\"test_data.csv\")\n",
    "train = pd.read_csv(\"train_data.csv\")\n",
    "val.head()"
   ]
  },
  {
   "cell_type": "code",
   "execution_count": 2,
   "metadata": {},
   "outputs": [
    {
     "data": {
      "text/plain": [
       "Index([], dtype='object')"
      ]
     },
     "execution_count": 2,
     "metadata": {},
     "output_type": "execute_result"
    }
   ],
   "source": [
    "val.select_dtypes(include=['object']).columns  # no object/text/categorical data"
   ]
  },
  {
   "cell_type": "code",
   "execution_count": 3,
   "metadata": {},
   "outputs": [
    {
     "data": {
      "text/plain": [
       "Index(['battery_power', 'blue', 'clock_speed', 'dual_sim', 'fc', 'four_g',\n",
       "       'int_memory', 'm_dep', 'mobile_wt', 'n_cores', 'pc', 'px_height',\n",
       "       'px_width', 'ram', 'sc_h', 'sc_w', 'talk_time', 'three_g',\n",
       "       'touch_screen', 'wifi', 'price_range'],\n",
       "      dtype='object')"
      ]
     },
     "execution_count": 3,
     "metadata": {},
     "output_type": "execute_result"
    }
   ],
   "source": [
    "val.select_dtypes(include=['number']).columns"
   ]
  },
  {
   "cell_type": "markdown",
   "metadata": {},
   "source": [
    "    1. EDA"
   ]
  },
  {
   "cell_type": "code",
   "execution_count": 4,
   "metadata": {},
   "outputs": [
    {
     "name": "stdout",
     "output_type": "stream",
     "text": [
      "   battery_power  blue  clock_speed  dual_sim  fc  four_g  int_memory  m_dep  \\\n",
      "0           1938     1          0.5         1   5       0          44    0.5   \n",
      "1           1831     0          1.4         1   2       0          43    0.9   \n",
      "2            763     0          1.7         1   8       1           2    0.5   \n",
      "3            851     0          0.5         0   3       0          21    0.4   \n",
      "4            712     0          0.5         0   6       0          27    0.5   \n",
      "\n",
      "   mobile_wt  n_cores  ...  px_height  px_width   ram  sc_h  sc_w  talk_time  \\\n",
      "0        121        2  ...       1299      1935  3497    18    10         18   \n",
      "1        150        5  ...        611      1381  3834    17     7         13   \n",
      "2         92        8  ...       1028      1186  1050     6     4          8   \n",
      "3        200        5  ...       1171      1263   478    12     7         10   \n",
      "4         86        2  ...       1245      1309  2001    11    10         12   \n",
      "\n",
      "   three_g  touch_screen  wifi  price_range  \n",
      "0        0             1     0            3  \n",
      "1        1             1     1            3  \n",
      "2        1             1     0            0  \n",
      "3        1             0     1            0  \n",
      "4        1             1     1            1  \n",
      "\n",
      "[5 rows x 21 columns]\n",
      "      battery_power  blue  clock_speed  dual_sim  fc  four_g  int_memory  \\\n",
      "1795           1715     1          0.5         1   1       1          18   \n",
      "1796           1384     1          2.8         1  15       0          60   \n",
      "1797           1379     1          2.1         1  14       1          63   \n",
      "1798           1225     1          2.4         0   0       0          15   \n",
      "1799           1832     0          0.7         0   2       0           2   \n",
      "\n",
      "      m_dep  mobile_wt  n_cores  ...  px_height  px_width   ram  sc_h  sc_w  \\\n",
      "1795    0.1         96        6  ...        674      1375  2598    17     2   \n",
      "1796    0.1         82        3  ...        983      1210  1221    18    12   \n",
      "1797    1.0         83        1  ...        207      1370   651     9     6   \n",
      "1798    0.1        155        5  ...        840       982  1970    16     8   \n",
      "1799    0.6         90        7  ...        186       654  2978    18     7   \n",
      "\n",
      "      talk_time  three_g  touch_screen  wifi  price_range  \n",
      "1795          3        1             0     0            3  \n",
      "1796         15        1             0     1            1  \n",
      "1797          7        1             1     0            0  \n",
      "1798         15        1             1     0            1  \n",
      "1799         18        0             0     0            2  \n",
      "\n",
      "[5 rows x 21 columns]\n"
     ]
    }
   ],
   "source": [
    "print(train.head())\n",
    "print(train.tail())"
   ]
  },
  {
   "cell_type": "code",
   "execution_count": 5,
   "metadata": {},
   "outputs": [
    {
     "name": "stdout",
     "output_type": "stream",
     "text": [
      "(1800, 21)\n",
      "battery_power      int64\n",
      "blue               int64\n",
      "clock_speed      float64\n",
      "dual_sim           int64\n",
      "fc                 int64\n",
      "four_g             int64\n",
      "int_memory         int64\n",
      "m_dep            float64\n",
      "mobile_wt          int64\n",
      "n_cores            int64\n",
      "pc                 int64\n",
      "px_height          int64\n",
      "px_width           int64\n",
      "ram                int64\n",
      "sc_h               int64\n",
      "sc_w               int64\n",
      "talk_time          int64\n",
      "three_g            int64\n",
      "touch_screen       int64\n",
      "wifi               int64\n",
      "price_range        int64\n",
      "dtype: object\n"
     ]
    }
   ],
   "source": [
    "print(train.shape)\n",
    "print(train.dtypes)"
   ]
  },
  {
   "cell_type": "code",
   "execution_count": 6,
   "metadata": {},
   "outputs": [
    {
     "name": "stdout",
     "output_type": "stream",
     "text": [
      "       battery_power         blue  clock_speed     dual_sim           fc  \\\n",
      "count    1800.000000  1800.000000  1800.000000  1800.000000  1800.000000   \n",
      "mean     1237.533333     0.499444     1.517944     0.509444     4.342778   \n",
      "std       440.853947     0.500139     0.813604     0.500050     4.331555   \n",
      "min       501.000000     0.000000     0.500000     0.000000     0.000000   \n",
      "25%       848.000000     0.000000     0.700000     0.000000     1.000000   \n",
      "50%      1224.500000     0.000000     1.500000     1.000000     3.000000   \n",
      "75%      1617.000000     1.000000     2.200000     1.000000     7.000000   \n",
      "max      1998.000000     1.000000     3.000000     1.000000    19.000000   \n",
      "\n",
      "            four_g   int_memory        m_dep    mobile_wt      n_cores  ...  \\\n",
      "count  1800.000000  1800.000000  1800.000000  1800.000000  1800.000000  ...   \n",
      "mean      0.525000    32.197222     0.502778   140.413889     4.523333  ...   \n",
      "std       0.499513    18.192214     0.289281    35.407189     2.289379  ...   \n",
      "min       0.000000     2.000000     0.100000    80.000000     1.000000  ...   \n",
      "25%       0.000000    16.000000     0.200000   109.000000     3.000000  ...   \n",
      "50%       1.000000    32.000000     0.500000   141.000000     5.000000  ...   \n",
      "75%       1.000000    48.000000     0.800000   170.250000     7.000000  ...   \n",
      "max       1.000000    64.000000     1.000000   200.000000     8.000000  ...   \n",
      "\n",
      "         px_height     px_width          ram         sc_h         sc_w  \\\n",
      "count  1800.000000  1800.000000  1800.000000  1800.000000  1800.000000   \n",
      "mean    646.903333  1251.507222  2123.113889    12.317778     5.760556   \n",
      "std     444.707272   431.917209  1089.215102     4.210434     4.342084   \n",
      "min       0.000000   500.000000   256.000000     5.000000     0.000000   \n",
      "25%     280.000000   874.000000  1195.250000     9.000000     2.000000   \n",
      "50%     575.500000  1247.000000  2156.000000    12.000000     5.000000   \n",
      "75%     952.000000  1633.000000  3063.250000    16.000000     9.000000   \n",
      "max    1960.000000  1998.000000  3998.000000    19.000000    18.000000   \n",
      "\n",
      "         talk_time      three_g  touch_screen         wifi  price_range  \n",
      "count  1800.000000  1800.000000   1800.000000  1800.000000  1800.000000  \n",
      "mean     10.973333     0.765556      0.498889     0.508333     1.500556  \n",
      "std       5.488921     0.423769      0.500138     0.500069     1.120331  \n",
      "min       2.000000     0.000000      0.000000     0.000000     0.000000  \n",
      "25%       6.000000     1.000000      0.000000     0.000000     0.000000  \n",
      "50%      11.000000     1.000000      0.000000     1.000000     2.000000  \n",
      "75%      16.000000     1.000000      1.000000     1.000000     2.250000  \n",
      "max      20.000000     1.000000      1.000000     1.000000     3.000000  \n",
      "\n",
      "[8 rows x 21 columns]\n",
      "       battery_power         blue  clock_speed     dual_sim           fc  \\\n",
      "count    1800.000000  1800.000000  1800.000000  1800.000000  1800.000000   \n",
      "mean     1237.533333     0.499444     1.517944     0.509444     4.342778   \n",
      "std       440.853947     0.500139     0.813604     0.500050     4.331555   \n",
      "min       501.000000     0.000000     0.500000     0.000000     0.000000   \n",
      "25%       848.000000     0.000000     0.700000     0.000000     1.000000   \n",
      "50%      1224.500000     0.000000     1.500000     1.000000     3.000000   \n",
      "75%      1617.000000     1.000000     2.200000     1.000000     7.000000   \n",
      "max      1998.000000     1.000000     3.000000     1.000000    19.000000   \n",
      "\n",
      "            four_g   int_memory        m_dep    mobile_wt      n_cores  ...  \\\n",
      "count  1800.000000  1800.000000  1800.000000  1800.000000  1800.000000  ...   \n",
      "mean      0.525000    32.197222     0.502778   140.413889     4.523333  ...   \n",
      "std       0.499513    18.192214     0.289281    35.407189     2.289379  ...   \n",
      "min       0.000000     2.000000     0.100000    80.000000     1.000000  ...   \n",
      "25%       0.000000    16.000000     0.200000   109.000000     3.000000  ...   \n",
      "50%       1.000000    32.000000     0.500000   141.000000     5.000000  ...   \n",
      "75%       1.000000    48.000000     0.800000   170.250000     7.000000  ...   \n",
      "max       1.000000    64.000000     1.000000   200.000000     8.000000  ...   \n",
      "\n",
      "         px_height     px_width          ram         sc_h         sc_w  \\\n",
      "count  1800.000000  1800.000000  1800.000000  1800.000000  1800.000000   \n",
      "mean    646.903333  1251.507222  2123.113889    12.317778     5.760556   \n",
      "std     444.707272   431.917209  1089.215102     4.210434     4.342084   \n",
      "min       0.000000   500.000000   256.000000     5.000000     0.000000   \n",
      "25%     280.000000   874.000000  1195.250000     9.000000     2.000000   \n",
      "50%     575.500000  1247.000000  2156.000000    12.000000     5.000000   \n",
      "75%     952.000000  1633.000000  3063.250000    16.000000     9.000000   \n",
      "max    1960.000000  1998.000000  3998.000000    19.000000    18.000000   \n",
      "\n",
      "         talk_time      three_g  touch_screen         wifi  price_range  \n",
      "count  1800.000000  1800.000000   1800.000000  1800.000000  1800.000000  \n",
      "mean     10.973333     0.765556      0.498889     0.508333     1.500556  \n",
      "std       5.488921     0.423769      0.500138     0.500069     1.120331  \n",
      "min       2.000000     0.000000      0.000000     0.000000     0.000000  \n",
      "25%       6.000000     1.000000      0.000000     0.000000     0.000000  \n",
      "50%      11.000000     1.000000      0.000000     1.000000     2.000000  \n",
      "75%      16.000000     1.000000      1.000000     1.000000     2.250000  \n",
      "max      20.000000     1.000000      1.000000     1.000000     3.000000  \n",
      "\n",
      "[8 rows x 21 columns]\n",
      "battery_power    1041\n",
      "blue                2\n",
      "clock_speed        26\n",
      "dual_sim            2\n",
      "fc                 20\n",
      "four_g              2\n",
      "int_memory         63\n",
      "m_dep              10\n",
      "mobile_wt         121\n",
      "n_cores             8\n",
      "pc                 21\n",
      "px_height        1074\n",
      "px_width         1055\n",
      "ram              1436\n",
      "sc_h               15\n",
      "sc_w               19\n",
      "talk_time          19\n",
      "three_g             2\n",
      "touch_screen        2\n",
      "wifi                2\n",
      "price_range         4\n",
      "dtype: int64\n"
     ]
    }
   ],
   "source": [
    "print(train.describe())\n",
    "print(train.describe())\n",
    "print(train.nunique())"
   ]
  },
  {
   "cell_type": "code",
   "execution_count": 7,
   "metadata": {},
   "outputs": [
    {
     "data": {
      "image/png": "[encoded data removed]",
      "text/plain": [
       "<Figure size 640x480 with 2 Axes>"
      ]
     },
     "metadata": {},
     "output_type": "display_data"
    }
   ],
   "source": [
    "import seaborn as sns\n",
    "import matplotlib.pyplot as plt\n",
    "\n",
    "corr_matrix = train.corr()\n",
    "sns.heatmap(corr_matrix, annot=False, cmap='coolwarm');"
   ]
  },
  {
   "cell_type": "code",
   "execution_count": 8,
   "metadata": {},
   "outputs": [
    {
     "data": {
      "text/plain": [
       "0       3\n",
       "1       3\n",
       "2       0\n",
       "3       0\n",
       "4       1\n",
       "       ..\n",
       "1795    3\n",
       "1796    1\n",
       "1797    0\n",
       "1798    1\n",
       "1799    2\n",
       "Name: price_range, Length: 1800, dtype: int64"
      ]
     },
     "execution_count": 8,
     "metadata": {},
     "output_type": "execute_result"
    }
   ],
   "source": [
    "train[\"price_range\"]   #Y value"
   ]
  },
  {
   "cell_type": "markdown",
   "metadata": {},
   "source": [
    "    2. Splitting data to train and validation, important - список 10 наиболее коррелируемых с 'price_change' столбцов. "
   ]
  },
  {
   "cell_type": "code",
   "execution_count": 9,
   "metadata": {},
   "outputs": [],
   "source": [
    "important = list(train.corr()[\"price_range\"].sort_values(ascending=False)[1:11].index)\n",
    "X_train = train[important]\n",
    "y_train = train[\"price_range\"]\n",
    "X_val = val[important]\n",
    "y_val = val[\"price_range\"]"
   ]
  },
  {
   "cell_type": "markdown",
   "metadata": {},
   "source": [
    "    3. Дальше с помощью 5 моделей прогнозируем 'price_range' и распечатываем Precision, F1 score and Recall для каждой модели. "
   ]
  },
  {
   "cell_type": "markdown",
   "metadata": {},
   "source": [
    "Logistic Regression:"
   ]
  },
  {
   "cell_type": "code",
   "execution_count": 10,
   "metadata": {
    "scrolled": true
   },
   "outputs": [
    {
     "name": "stdout",
     "output_type": "stream",
     "text": [
      "Precision: 0.960236013986014\n",
      "Recall: 0.96\n",
      "F1 Score: 0.9599719766904168\n"
     ]
    }
   ],
   "source": [
    "import numpy as np\n",
    "from sklearn.linear_model import LogisticRegression\n",
    "from sklearn.preprocessing import StandardScaler\n",
    "from sklearn.metrics import precision_score, recall_score, f1_score\n",
    "\n",
    "scaler = StandardScaler()\n",
    "X_train_scaled = scaler.fit_transform(X_train)\n",
    "X_val_scaled = scaler.transform(X_val)\n",
    "\n",
    "X_train_scaled = pd.DataFrame(X_train_scaled, columns=X_train.columns)\n",
    "X_val_scaled = pd.DataFrame(X_val_scaled, columns=X_val.columns)\n",
    "\n",
    "reg = LogisticRegression()\n",
    "reg.fit(X_train_scaled, np.array(y_train))\n",
    "\n",
    "y_pred = reg.predict(X_val_scaled)\n",
    "\n",
    "precision = precision_score(y_val, y_pred, average=\"weighted\")\n",
    "\n",
    "recall = recall_score(y_val, y_pred, average=\"weighted\")\n",
    "\n",
    "f1 = f1_score(y_val, y_pred, average=\"weighted\")\n",
    "\n",
    "print(f\"Precision: {precision}\")\n",
    "print(f\"Recall: {recall}\")\n",
    "print(f\"F1 Score: {f1}\")"
   ]
  },
  {
   "cell_type": "markdown",
   "metadata": {},
   "source": [
    "Random Forest:"
   ]
  },
  {
   "cell_type": "code",
   "execution_count": 11,
   "metadata": {},
   "outputs": [
    {
     "name": "stdout",
     "output_type": "stream",
     "text": [
      "Precision: 0.9376545352743559\n",
      "Recall: 0.935\n",
      "F1 Score: 0.9354527850019645\n"
     ]
    }
   ],
   "source": [
    "from sklearn.ensemble import RandomForestClassifier\n",
    "\n",
    "model = RandomForestClassifier()\n",
    "model.fit(X_train, y_train)\n",
    "\n",
    "y_pred = model.predict(X_val)\n",
    "\n",
    "precision = precision_score(y_val, y_pred, average='weighted')  # Use 'macro', 'micro', or 'weighted' for multi-class\n",
    "recall = recall_score(y_val, y_pred, average='weighted')\n",
    "f1 = f1_score(y_val, y_pred, average='weighted')\n",
    "\n",
    "print(f\"Precision: {precision}\")\n",
    "print(f\"Recall: {recall}\")\n",
    "print(f\"F1 Score: {f1}\")\n"
   ]
  },
  {
   "cell_type": "markdown",
   "metadata": {},
   "source": [
    "SVM:"
   ]
  },
  {
   "cell_type": "code",
   "execution_count": 12,
   "metadata": {},
   "outputs": [
    {
     "name": "stdout",
     "output_type": "stream",
     "text": [
      "Precision: 0.8915604003359462\n",
      "Recall: 0.89\n",
      "F1 Score: 0.8903862379211975\n"
     ]
    }
   ],
   "source": [
    "from sklearn.svm import SVC\n",
    "\n",
    "scaler = StandardScaler()\n",
    "X_train_scaled = scaler.fit_transform(X_train)\n",
    "X_val_scaled = scaler.transform(X_val)\n",
    "\n",
    "X_train_scaled = pd.DataFrame(X_train_scaled, columns=X_train.columns)\n",
    "X_val_scaled = pd.DataFrame(X_val_scaled, columns=X_val.columns)\n",
    "\n",
    "reg = SVC()\n",
    "reg.fit(X_train_scaled, y_train)\n",
    "\n",
    "y_pred = reg.predict(X_val_scaled)\n",
    "\n",
    "precision = precision_score(y_val, y_pred, average='weighted')  # Use 'macro', 'micro', or 'weighted' for multi-class\n",
    "recall = recall_score(y_val, y_pred, average='weighted')\n",
    "f1 = f1_score(y_val, y_pred, average='weighted')\n",
    "\n",
    "print(f\"Precision: {precision}\")\n",
    "print(f\"Recall: {recall}\")\n",
    "print(f\"F1 Score: {f1}\")"
   ]
  },
  {
   "cell_type": "markdown",
   "metadata": {},
   "source": [
    "KNN:"
   ]
  },
  {
   "cell_type": "code",
   "execution_count": 13,
   "metadata": {},
   "outputs": [
    {
     "name": "stdout",
     "output_type": "stream",
     "text": [
      "Precision: 0.6913321937834556\n",
      "Recall: 0.685\n",
      "F1 Score: 0.6853172831123814\n"
     ]
    }
   ],
   "source": [
    "from sklearn.neighbors import KNeighborsClassifier\n",
    "\n",
    "scaler = StandardScaler()\n",
    "X_train_scaled = scaler.fit_transform(X_train)\n",
    "X_val_scaled = scaler.transform(X_val)\n",
    "\n",
    "X_train_scaled = pd.DataFrame(X_train_scaled, columns=X_train.columns)\n",
    "X_val_scaled = pd.DataFrame(X_val_scaled, columns=X_val.columns)\n",
    "\n",
    "reg = KNeighborsClassifier()\n",
    "reg.fit(X_train_scaled, y_train)\n",
    "\n",
    "y_pred = reg.predict(X_val_scaled)\n",
    "\n",
    "precision = precision_score(y_val, y_pred, average='weighted')  \n",
    "recall = recall_score(y_val, y_pred, average='weighted')\n",
    "f1 = f1_score(y_val, y_pred, average='weighted')\n",
    "\n",
    "print(f\"Precision: {precision}\")\n",
    "print(f\"Recall: {recall}\")\n",
    "print(f\"F1 Score: {f1}\")"
   ]
  },
  {
   "cell_type": "markdown",
   "metadata": {},
   "source": [
    "GBM:"
   ]
  },
  {
   "cell_type": "code",
   "execution_count": 14,
   "metadata": {},
   "outputs": [
    {
     "name": "stdout",
     "output_type": "stream",
     "text": [
      "Precision: 0.9421173469387756\n",
      "Recall: 0.94\n",
      "F1 Score: 0.940481045421841\n"
     ]
    }
   ],
   "source": [
    "from sklearn.ensemble import GradientBoostingClassifier\n",
    "\n",
    "scaler = StandardScaler()\n",
    "X_train_scaled = scaler.fit_transform(X_train)\n",
    "X_val_scaled = scaler.transform(X_val)\n",
    "\n",
    "X_train_scaled = pd.DataFrame(X_train_scaled, columns=X_train.columns)\n",
    "X_val_scaled = pd.DataFrame(X_val_scaled, columns=X_val.columns)\n",
    "\n",
    "reg = GradientBoostingClassifier()\n",
    "reg.fit(X_train_scaled, y_train)\n",
    "\n",
    "y_pred = reg.predict(X_val_scaled)\n",
    "\n",
    "precision = precision_score(y_val, y_pred, average='weighted')  \n",
    "recall = recall_score(y_val, y_pred, average='weighted')\n",
    "f1 = f1_score(y_val, y_pred, average='weighted')\n",
    "\n",
    "print(f\"Precision: {precision}\")\n",
    "print(f\"Recall: {recall}\")\n",
    "print(f\"F1 Score: {f1}\")"
   ]
  },
  {
   "cell_type": "markdown",
   "metadata": {},
   "source": [
    "Модели по точности:\n",
    "1. LOGISTIC REGRESSION\n",
    "2. GBM\n",
    "3. RANDOM FOREST\n",
    "4. SVM\n",
    "5. KNN"
   ]
  },
  {
   "cell_type": "code",
   "execution_count": null,
   "metadata": {},
   "outputs": [],
   "source": []
  }
 ],
 "metadata": {
  "kernelspec": {
   "display_name": "Python 3 (ipykernel)",
   "language": "python",
   "name": "python3"
  },
  "language_info": {
   "codemirror_mode": {
    "name": "ipython",
    "version": 3
   },
   "file_extension": ".py",
   "mimetype": "text/x-python",
   "name": "python",
   "nbconvert_exporter": "python",
   "pygments_lexer": "ipython3",
   "version": "3.11.4"
  }
 },
 "nbformat": 4,
 "nbformat_minor": 2
}
